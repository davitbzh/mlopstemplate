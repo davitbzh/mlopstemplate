{
 "cells": [
  {
   "cell_type": "markdown",
   "id": "c13aa838",
   "metadata": {
    "tags": []
   },
   "source": [
    "This is the first part of the quick start series of tutorials about Hopsworks Feature Store. As part of this first module, you will work with data related to credit card transactions. \n",
    "The objective of this tutorial is to demonstrate how to work with the **Hopworks Feature Store**  for online data with a goal of training and deploying a model that can predict fraudulent transactions.\n",
    "\n",
    "\n",
    "## 🗒️ This notebook is divided in 3 sections:\n",
    "1. Loading the data and feature engineeing,\n",
    "2. Connect to the Hopsworks Feature Store,\n",
    "3. Create feature groups and upload them to the Feature Store.\n",
    "\n",
    "\n",
    "First of all you will load the data and do some feature engineering on it."
   ]
  },
  {
   "cell_type": "markdown",
   "id": "d2be8b28",
   "metadata": {},
   "source": [
    "## <span style='color:#ff5f27'> 📝 Imports"
   ]
  },
  {
   "cell_type": "code",
   "execution_count": null,
   "id": "67abf3cb",
   "metadata": {},
   "outputs": [],
   "source": [
    "import hopsworks\n",
    "from mlopstemplate.features import transactions, profile\n",
    "from mlopstemplate.features.synthetic import synthetic_data\n",
    "from mlopstemplate.features.synthetic.data_sources import get_datasets"
   ]
  },
  {
   "cell_type": "markdown",
   "id": "06845265",
   "metadata": {},
   "source": [
    "First of all you will load the data and do some feature engineering on it."
   ]
  },
  {
   "cell_type": "markdown",
   "id": "a7e9d004",
   "metadata": {},
   "source": [
    "## <span style=\"color:#ff5f27;\"> 💽 Loading the Data </span>\n",
    "\n",
    "The data you will use comes from 2 different CSV files:\n",
    "\n",
    "- `transactions.csv`: events containing information about when a credit card was used, such as a timestamp, location, and the amount spent. A boolean fraud_label variable (True/False) tells us whether a transaction was fraudulent or not.\n",
    "- `profiles.csv`: credit card user information such as birthdate and city of residence.\n",
    "\n",
    "In a production system, these CSV files would originate from separate data sources or tables, and probably separate data pipelines. **These files have a common credit card number column cc_num, which you will use later to join features together from the different datasets.**\n",
    "\n",
    "Now, you can go ahead and load the data."
   ]
  },
  {
   "cell_type": "code",
   "execution_count": null,
   "id": "0bba5f9e",
   "metadata": {},
   "outputs": [],
   "source": [
    "# get data from the source\n",
    "trans_df, labels_df, profiles_df = get_datasets()"
   ]
  },
  {
   "cell_type": "markdown",
   "id": "db1e0f3a",
   "metadata": {},
   "source": [
    "---"
   ]
  },
  {
   "cell_type": "markdown",
   "id": "df5f060f",
   "metadata": {},
   "source": [
    "## <span style=\"color:#ff5f27;\"> 🛠️ Feature Engineering </span>\n",
    "\n",
    "Fraudulent transactions can differ from regular ones in many different ways. Typical red flags would for instance be a large transaction volume/frequency in the span of a few hours. It could also be the case that elderly people in particular are targeted by fraudsters. To facilitate model learning you will create additional features based on these patterns. In particular, you will create two types of features:\n",
    "1. **Features that aggregate data from different data sources**. This could for instance be the age of a customer at the time of a transaction, which combines the `birthdate` feature from `profiles.csv` with the `datetime` feature from `transactions.csv`.\n",
    "2. **Features that aggregate data from multiple time steps**. An example of this could be the transaction frequency of a credit card in the span of a few hours, which is computed using a window function.\n",
    "\n",
    "Let's start with the first category."
   ]
  },
  {
   "cell_type": "markdown",
   "id": "0e1e1833",
   "metadata": {},
   "source": [
    "Now you are ready to start by computing the distance between consecutive transactions, lets call it `loc_delta`.\n",
    "Here you will use the [Haversine distance](https://scikit-learn.org/stable/modules/generated/sklearn.metrics.pairwise.haversine_distances.html?highlight=haversine#sklearn.metrics.pairwise.haversine_distances) to quantify the distance between two longitude and latitude coordinates."
   ]
  },
  {
   "cell_type": "code",
   "execution_count": null,
   "id": "a104993d",
   "metadata": {},
   "outputs": [],
   "source": [
    "# compute profile features\n",
    "# select final features\n",
    "profiles_df = profile.select_features(profiles_df)"
   ]
  },
  {
   "cell_type": "code",
   "execution_count": null,
   "id": "19c52874",
   "metadata": {},
   "outputs": [],
   "source": [
    "# compute previous location of the transaction\n",
    "trans_df = transactions.loc_delta_t_minus_1(trans_df)\n",
    "\n",
    "# Computes time difference between current and previous transaction\n",
    "trans_df = transactions.time_delta_t_minus_1(trans_df)\n",
    "\n",
    "# Compute transaction features\n",
    "# Compute year and month string from datetime column.\n",
    "trans_df[\"month\"] = transactions.get_year_month(trans_df.datetime)\n",
    "labels_df[\"month\"] = transactions.get_year_month(labels_df.datetime)\n",
    "\n",
    "# select final features\n",
    "trans_df = transactions.select_features(trans_df)"
   ]
  },
  {
   "cell_type": "markdown",
   "id": "c0d1741c",
   "metadata": {},
   "source": [
    "---"
   ]
  },
  {
   "cell_type": "markdown",
   "id": "4ba3bccb",
   "metadata": {},
   "source": [
    "## <span style=\"color:#ff5f27;\"> 📡 Connecting to Hopsworks Feature Store </span>"
   ]
  },
  {
   "cell_type": "markdown",
   "id": "42b91ac4",
   "metadata": {},
   "source": [
    "### <span style=\"color:#ff5f27;\"> 🪄 Creating Feature Groups </span>\n",
    "\n",
    "A [feature group](https://docs.hopsworks.ai/3.0/concepts/fs/feature_group/fg_overview/) can be seen as a collection of conceptually related features. In this case, you will create a feature group for the transaction data and a feature group for the windowed aggregations on the transaction data. Both will have `cc_num` as primary key, which will allow you to join them when creating a dataset in the next tutorial.\n",
    "\n",
    "Feature groups can also be used to define a namespace for features. For instance, in a real-life setting you would likely want to experiment with different window lengths. In that case, you can create feature groups with identical schema for each window length. \n",
    "\n",
    "Before you can create a feature group you need to connect to Hopsworks feature store."
   ]
  },
  {
   "cell_type": "code",
   "execution_count": null,
   "id": "4a6326e5",
   "metadata": {},
   "outputs": [],
   "source": [
    "import hopsworks\n",
    "\n",
    "project = hopsworks.login()\n",
    "fs = project.get_feature_store()"
   ]
  },
  {
   "cell_type": "markdown",
   "id": "bf36b0da",
   "metadata": {},
   "source": [
    "To create a feature group you need to give it a name and specify a primary key. It is also good to provide a description of the contents of the feature group and a version number, if it is not defined it will automatically be incremented to `1`."
   ]
  },
  {
   "cell_type": "code",
   "execution_count": null,
   "id": "570761e3",
   "metadata": {},
   "outputs": [],
   "source": [
    "# get or create feature group\n",
    "trans_fg = fs.get_or_create_feature_group(\n",
    "    name=\"transactions\",\n",
    "    version=1,\n",
    "    description=\"Transaction data\",\n",
    "    primary_key=['cc_num'],\n",
    "    event_time='datetime',\n",
    "    partition_key=['month'],\n",
    "    stream=True,\n",
    "    online_enabled=True\n",
    ")\n",
    "\n",
    "# materialize feature data in to the feature group\n",
    "trans_fg.insert(trans_df)"
   ]
  },
  {
   "cell_type": "markdown",
   "id": "117c5732",
   "metadata": {},
   "source": [
    "Here you have also set `online_enabled=True`, which enables low latency access to the data. A full list of arguments can be found in the [documentation](https://docs.hopsworks.ai/feature-store-api/latest/generated/api/feature_store_api/#create_feature_group)."
   ]
  },
  {
   "cell_type": "code",
   "execution_count": null,
   "id": "e21a2a14",
   "metadata": {},
   "outputs": [],
   "source": [
    "feature_descriptions = [\n",
    "    {\"name\": \"tid\", \"description\": \"Transaction id\"},\n",
    "    {\"name\": \"datetime\", \"description\": \"Transaction time\"},\n",
    "    {\"name\": \"month\", \"description\": \"Month of the transaction\"},    \n",
    "    {\"name\": \"cc_num\", \"description\": \"Number of the credit card performing the transaction\"},\n",
    "    {\"name\": \"amount\", \"description\": \"Dollar amount of the transaction\"},\n",
    "    {\"name\": \"country\", \"description\": \"Country in which the transaction was made\"},\n",
    "    {\"name\": \"loc_delta_t_minus_1\", \"description\": \"Location of previous transaction\"},\n",
    "    {\"name\": \"time_delta_t_minus_1\", \"description\": \"Time of previous transaction\"},    \n",
    "]\n",
    "\n",
    "for desc in feature_descriptions: \n",
    "    trans_fg.update_feature_description(desc[\"name\"], desc[\"description\"])"
   ]
  },
  {
   "cell_type": "code",
   "execution_count": null,
   "id": "cbaee532",
   "metadata": {},
   "outputs": [],
   "source": [
    "# get or create feature group\n",
    "labels_fg = fs.get_or_create_feature_group(\n",
    "    name=\"fraud_labels\",\n",
    "    version=1,\n",
    "    description=\"Transaction data\",\n",
    "    primary_key=['cc_num'],\n",
    "    event_time='datetime',\n",
    "    partition_key=['month'],\n",
    "    stream=True,\n",
    "    online_enabled=True\n",
    ")\n"
   ]
  },
  {
   "cell_type": "code",
   "execution_count": null,
   "id": "f8d2fda7",
   "metadata": {},
   "outputs": [],
   "source": [
    "# materialize feature data in to the feature group\n",
    "labels_fg.insert(labels_df)"
   ]
  },
  {
   "cell_type": "markdown",
   "id": "fe888c5e",
   "metadata": {},
   "source": [
    "You can move on and do the same thing for the profile and label feature groups."
   ]
  },
  {
   "cell_type": "code",
   "execution_count": null,
   "id": "a054695c",
   "metadata": {},
   "outputs": [],
   "source": [
    "# get or create feature group\n",
    "profile_fg = fs.get_or_create_feature_group(\n",
    "    name=\"profile\",\n",
    "    version=1,\n",
    "    description=\"Credit card holder demographic data\",\n",
    "    primary_key=[\"cc_num\"],\n",
    "    partition_key=[\"sex\"],\n",
    "    stream=True,\n",
    "    online_enabled=True\n",
    ")\n"
   ]
  },
  {
   "cell_type": "code",
   "execution_count": null,
   "id": "43e41bd4",
   "metadata": {},
   "outputs": [],
   "source": [
    "# materialize feature data in to the feature group\n",
    "profile_fg.insert(profiles_df)"
   ]
  },
  {
   "cell_type": "code",
   "execution_count": null,
   "id": "ff6e5c73",
   "metadata": {},
   "outputs": [],
   "source": [
    "feature_descriptions = [\n",
    "    {\"name\": \"cc_num\", \"description\": \"Number of the credit card performing the transaction\"},\n",
    "    {\"name\": \"sex\", \"description\": \"Gender of the credit card holder\"},\n",
    "    {\"name\": \"birthdate\", \"description\": \"Birth date\"},\n",
    "]\n",
    "\n",
    "for desc in feature_descriptions: \n",
    "    profile_fg.update_feature_description(desc[\"name\"], desc[\"description\"])"
   ]
  },
  {
   "cell_type": "markdown",
   "id": "c6b52dd7",
   "metadata": {},
   "source": [
    "Click on the hyperlink printed in the cell output above to inspect your feature group in the UI."
   ]
  },
  {
   "cell_type": "markdown",
   "id": "97d44061",
   "metadata": {
    "jp-MarkdownHeadingCollapsed": true,
    "tags": []
   },
   "source": [
    "### <span style=\"color:#ff5f27;\"> 👓  Exploration</span>\n",
    "In the Hopsworks feature store, the metadata allows for multiple levels of explorations and review. Here you will explore a few of those capacities. \n",
    "\n",
    "### <span style=\"color:#ff5f27;\"> 🔎 Search</span>\n",
    "Using the search function in the UI, you can query any aspect of the feature groups, feature_view and training data that was previously created.\n",
    "\n",
    "### <span style=\"color:#ff5f27;\"> 📊 Statistics</span>\n",
    "You can also enable statistics in one or all the feature groups."
   ]
  },
  {
   "cell_type": "code",
   "execution_count": null,
   "id": "0abf4add",
   "metadata": {},
   "outputs": [],
   "source": [
    "trans_fg = fs.get_or_create_feature_group(\"transactions\", version=1)\n",
    "trans_fg.statistics_config = {\n",
    "    \"enabled\": True,\n",
    "    \"histograms\": True,\n",
    "    \"correlations\": True\n",
    "}\n",
    "\n",
    "trans_fg.update_statistics_config()\n",
    "trans_fg.compute_statistics()"
   ]
  },
  {
   "cell_type": "markdown",
   "id": "026c5ba9",
   "metadata": {
    "jp-MarkdownHeadingCollapsed": true,
    "tags": []
   },
   "source": [
    "### ⛓️ <b> Lineage </b> \n",
    "In all the feature groups and feature view you can look at the relation between each abstractions; what feature group created which training dataset and that is used in which model.\n",
    "This allows for a clear undestanding of the pipeline in relation to each element. "
   ]
  }
 ],
 "metadata": {
  "interpreter": {
   "hash": "e1ddeae6eefc765c17da80d38ea59b893ab18c0c0904077a035ef84cfe367f83"
  },
  "kernelspec": {
   "display_name": "Python",
   "language": "python",
   "name": "python3"
  },
  "language_info": {
   "codemirror_mode": {
    "name": "ipython",
    "version": 3
   },
   "file_extension": ".py",
   "mimetype": "text/x-python",
   "name": "python",
   "nbconvert_exporter": "python",
   "pygments_lexer": "ipython3",
   "version": "3.10.11"
  }
 },
 "nbformat": 4,
 "nbformat_minor": 5
}